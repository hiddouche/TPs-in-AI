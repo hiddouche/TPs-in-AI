{
  "nbformat": 4,
  "nbformat_minor": 0,
  "metadata": {
    "colab": {
      "name": "Untitled2.ipynb",
      "provenance": [],
      "collapsed_sections": [],
      "authorship_tag": "ABX9TyOUVYt6fpUVTAmrde8kI8N0",
      "include_colab_link": true
    },
    "kernelspec": {
      "name": "python3",
      "display_name": "Python 3"
    },
    "language_info": {
      "name": "python"
    }
  },
  "cells": [
    {
      "cell_type": "markdown",
      "metadata": {
        "id": "view-in-github",
        "colab_type": "text"
      },
      "source": [
        "<a href=\"https://colab.research.google.com/github/hiddouche/TPs-in-AI/blob/master/tp1_predict_price_of_house_from_superficies.ipynb\" target=\"_parent\"><img src=\"https://colab.research.google.com/assets/colab-badge.svg\" alt=\"Open In Colab\"/></a>"
      ]
    },
    {
      "cell_type": "code",
      "metadata": {
        "colab": {
          "base_uri": "https://localhost:8080/"
        },
        "id": "QVi_2TP6PdiK",
        "outputId": "167e7cff-fa0c-4179-920d-a495895c3864"
      },
      "source": [
        "import numpy as np\n",
        "import tensorflow as tf\n",
        "import numpy as np\n",
        "from tensorflow import keras\n",
        "\n",
        "model = tf.keras.Sequential([keras.layers.Dense(units=1, input_shape=[1])])\n",
        "model.compile(optimizer='sgd', loss='mean_squared_error')\n",
        "\n",
        "xs = np.array([20.0,  40.0, 60.0, 70.0, 10.0, 5.0], dtype=float)\n",
        "ys = np.array([50.0, 60.0, 70.0, 80.0, 5.0, 2.0], dtype=float)\n",
        "\n",
        "\n",
        "model.fit(xs,ys,epochs=7) \n",
        "\n",
        "print(model.predict([20.0]))\n"
      ],
      "execution_count": null,
      "outputs": [
        {
          "output_type": "stream",
          "text": [
            "Epoch 1/7\n",
            "1/1 [==============================] - 0s 212ms/step - loss: 2496.0413\n",
            "Epoch 2/7\n",
            "1/1 [==============================] - 0s 7ms/step - loss: 2785125.0000\n",
            "Epoch 3/7\n",
            "1/1 [==============================] - 0s 5ms/step - loss: 3301354752.0000\n",
            "Epoch 4/7\n",
            "1/1 [==============================] - 0s 4ms/step - loss: 3913473589248.0000\n",
            "Epoch 5/7\n",
            "1/1 [==============================] - 0s 7ms/step - loss: 4639090276302848.0000\n",
            "Epoch 6/7\n",
            "1/1 [==============================] - 0s 4ms/step - loss: 5499246438984450048.0000\n",
            "Epoch 7/7\n",
            "1/1 [==============================] - 0s 6ms/step - loss: 6518888965974708453376.0000\n",
            "[[1.321966e+12]]\n"
          ],
          "name": "stdout"
        }
      ]
    }
  ]
}